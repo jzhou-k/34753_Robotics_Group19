{
 "cells": [
  {
   "cell_type": "markdown",
   "id": "e9647d8d",
   "metadata": {},
   "source": [
    "# Problem Solutions \n",
    "\n",
    "unit is expressed in mm\n",
    "\n",
    "## Problem 1 \n",
    "\n",
    "\n",
    "Find, by the use of Figure 1, the direct kinematic transformations, $T^0_4$ for the robot stylus, and $T^0_5$ for the robot camera, as function of all joint angles."
   ]
  },
  {
   "cell_type": "code",
   "execution_count": 6,
   "id": "5272ee75",
   "metadata": {},
   "outputs": [
    {
     "name": "stdout",
     "output_type": "stream",
     "text": [
      "Matrix T04:\n",
      "⎡1.0⋅cos(θ₁)⋅cos(θ₂ + θ₃ + θ₄)  -1.0⋅sin(θ₂ + θ₃ + θ₄)⋅cos(θ₁)      -1.0⋅sin(θ ↪\n",
      "⎢                                                                              ↪\n",
      "⎢1.0⋅sin(θ₁)⋅cos(θ₂ + θ₃ + θ₄)  -1.0⋅sin(θ₁)⋅sin(θ₂ + θ₃ + θ₄)      1.0⋅cos(θ₁ ↪\n",
      "⎢                                                                              ↪\n",
      "⎢   -1.0⋅sin(θ₂ + θ₃ + θ₄)          -1.0⋅cos(θ₂ + θ₃ + θ₄)      6.123233995736 ↪\n",
      "⎢                                                                              ↪\n",
      "⎣              0                              0                          0     ↪\n",
      "\n",
      "↪ ₁)      -5.69460761603519e-15⋅sin(θ₁)⋅sin(θ₂) - 7.105427357601e-15⋅sin(θ₁)⋅s ↪\n",
      "↪                                                                              ↪\n",
      "↪ )       93.0⋅sin(θ₁)⋅cos(θ₂) + 93.0⋅sin(θ₁)⋅cos(θ₂ + θ₃) + 50.0⋅sin(θ₁)⋅cos( ↪\n",
      "↪                                                                              ↪\n",
      "↪ 77e-17                                                   -93.0⋅sin(θ₂) - 93. ↪\n",
      "↪                                                                              ↪\n",
      "↪                                                                              ↪\n",
      "\n",
      "↪ in(θ₂ + θ₃) + 93.0⋅cos(θ₁)⋅cos(θ₂) + 93.0⋅cos(θ₁)⋅cos(θ₂ + θ₃) + 50.0⋅cos(θ₁ ↪\n",
      "↪                                                                              ↪\n",
      "↪ θ₂ + θ₃ + θ₄) + 5.69460761603519e-15⋅sin(θ₂)⋅cos(θ₁) + 7.105427357601e-15⋅si ↪\n",
      "↪                                                                              ↪\n",
      "↪ 0⋅sin(θ₂ + θ₃) - 50.0⋅sin(θ₂ + θ₃ + θ₄) + 50.0                               ↪\n",
      "↪                                                                              ↪\n",
      "↪             1.0                                                              ↪\n",
      "\n",
      "↪ )⋅cos(θ₂ + θ₃ + θ₄)⎤\n",
      "↪                    ⎥\n",
      "↪ n(θ₂ + θ₃)⋅cos(θ₁) ⎥\n",
      "↪                    ⎥\n",
      "↪                    ⎥\n",
      "↪                    ⎥\n",
      "↪                    ⎦\n"
     ]
    }
   ],
   "source": [
    "\n",
    "from visual_kinematics.RobotSerial import *\n",
    "import numpy as np\n",
    "import sympy as sp\n",
    "import math\n",
    "\n",
    "from RobotFunctions import *\n",
    "from RobotController import *\n",
    "\n",
    "\n",
    "\n",
    "theta1, theta2, theta3, theta4 = sp.symbols('theta1 theta2 theta3 theta4')\n",
    "# Define DH parameters, with symbolic thetas\n",
    "dh_params_syms = [\n",
    "    [50, 0, -0.5 * pi, theta1],\n",
    "    [0, 93, 0, theta2],\n",
    "    [0, 93, 0, theta3],\n",
    "    [0, 50, 0, theta4],\n",
    "]\n",
    "\n",
    "end_effector_param = [[0, 45, -15, 0]]\n",
    "\n",
    "T_total = np.eye(4)\n",
    "\n",
    "for d, a, theta, alpha in dh_params_syms:\n",
    "    T_total = T_total @ make_DH_matrix(d, a, theta, alpha)\n",
    "    # T_total.applyfunc(lambda x: 0 if abs(x) < 1e-8 else x)\n",
    "\n",
    "print(\"Matrix T04:\")\n",
    "sp.pretty_print(T_total.applyfunc(sp.trigsimp), use_unicode=True)\n",
    "\n"
   ]
  }
 ],
 "metadata": {
  "kernelspec": {
   "display_name": "Python 3",
   "language": "python",
   "name": "python3"
  },
  "language_info": {
   "codemirror_mode": {
    "name": "ipython",
    "version": 3
   },
   "file_extension": ".py",
   "mimetype": "text/x-python",
   "name": "python",
   "nbconvert_exporter": "python",
   "pygments_lexer": "ipython3",
   "version": "3.11.9"
  }
 },
 "nbformat": 4,
 "nbformat_minor": 5
}
